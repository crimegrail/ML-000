{
  "nbformat": 4,
  "nbformat_minor": 0,
  "metadata": {
    "colab": {
      "name": "target_mean.ipynb",
      "provenance": []
    },
    "kernelspec": {
      "name": "python3",
      "display_name": "Python 3"
    }
  },
  "cells": [
    {
      "cell_type": "code",
      "metadata": {
        "id": "gEH_e8oeAAm6"
      },
      "source": [
        "import numpy as np\r\n",
        "import pandas as pd"
      ],
      "execution_count": 25,
      "outputs": []
    },
    {
      "cell_type": "code",
      "metadata": {
        "id": "OXaSC_f5AM21"
      },
      "source": [
        "# 数据准备，为了让优化的效果表现的明显，维度用的是十万\r\n",
        "x = np.random.randint(10, size=(100000,1))\r\n",
        "y = np.random.randint(2, size=(100000,1))\r\n",
        "data = pd.DataFrame(np.concatenate([y,x],axis=1),columns=['y','x'])\r\n",
        "x1 = x.ravel()\r\n",
        "y1 = y.ravel()"
      ],
      "execution_count": 38,
      "outputs": []
    },
    {
      "cell_type": "code",
      "metadata": {
        "id": "Pze3c-1tAPYF"
      },
      "source": [
        "def target_mean_v1(data, y_name, x_name):\r\n",
        "  result = np.zeros(data.shape[0])\r\n",
        "  for i in range(data.shape[0]):\r\n",
        "    groupby_result = data[data.index != i].groupby([x_name], as_index=False).agg(['mean', 'count'])\r\n",
        "    result[i] = groupby_result.loc[groupby_result.index == data.loc[i, x_name], (y_name, 'mean')]\r\n",
        "  return result"
      ],
      "execution_count": 27,
      "outputs": []
    },
    {
      "cell_type": "code",
      "metadata": {
        "id": "5JzXPRkzAd4y"
      },
      "source": [
        "def target_mean_v2(data, y_name, x_name):\r\n",
        "  result = np.zeros(data.shape[0])\r\n",
        "  value_dict = dict()\r\n",
        "  count_dict = dict()\r\n",
        "  for i in range(data.shape[0]):\r\n",
        "    if data.loc[i, x_name] not in value_dict.keys():\r\n",
        "      value_dict[data.loc[i, x_name]] = data.loc[i, y_name]\r\n",
        "      count_dict[data.loc[i, x_name]] = 1\r\n",
        "    else:\r\n",
        "      value_dict[data.loc[i, x_name]] += data.loc[i, y_name]\r\n",
        "      count_dict[data.loc[i, x_name]] += 1\r\n",
        "  for i in range(data.shape[0]):\r\n",
        "      result[i] = (value_dict[data.loc[i, x_name]] - data.loc[i, y_name]) / (count_dict[data.loc[i, x_name]] - 1)\r\n",
        "  return result"
      ],
      "execution_count": 28,
      "outputs": []
    },
    {
      "cell_type": "code",
      "metadata": {
        "colab": {
          "base_uri": "https://localhost:8080/"
        },
        "id": "XKLJpmuTAhSs",
        "outputId": "845c30c6-e5d5-4282-d60c-79862128039d"
      },
      "source": [
        "%%timeit\r\n",
        "target_mean_v2(data,'y','x')"
      ],
      "execution_count": 29,
      "outputs": [
        {
          "output_type": "stream",
          "text": [
            "1 loop, best of 3: 5 s per loop\n"
          ],
          "name": "stdout"
        }
      ]
    },
    {
      "cell_type": "markdown",
      "metadata": {
        "id": "BUZEq0ykAlBs"
      },
      "source": [
        "pd.DataFrame的检索是代码瓶颈所在，通过实验，发现本质上传入的参数是两个np.ndarray,因此通过改变传入参数的方法优化得到target_mean_v3。"
      ]
    },
    {
      "cell_type": "code",
      "metadata": {
        "id": "GI2djWXyAkQ0"
      },
      "source": [
        "def target_mean_v3(x, y):\r\n",
        "  n = x.shape[0]\r\n",
        "  result = np.empty(n)\r\n",
        "  value_dict = {}\r\n",
        "  count_dict = {}\r\n",
        "  for i in range(n):\r\n",
        "    xi = x[i]\r\n",
        "    yi = y[i]\r\n",
        "    if x[i] not in value_dict:\r\n",
        "      value_dict[xi] = yi\r\n",
        "      count_dict[xi] = 1\r\n",
        "    else:\r\n",
        "      value_dict[xi] += yi\r\n",
        "      count_dict[xi] += 1\r\n",
        "  for i in range(n):\r\n",
        "    xi = x[i]\r\n",
        "    yi = y[i]\r\n",
        "    result[i] = (value_dict[xi] - yi) / (count_dict[xi] - 1)\r\n",
        "  return result"
      ],
      "execution_count": 46,
      "outputs": []
    },
    {
      "cell_type": "code",
      "metadata": {
        "colab": {
          "base_uri": "https://localhost:8080/"
        },
        "id": "3g2fPMcpBAua",
        "outputId": "7848255a-3c5c-4df3-f7fa-13a443d212e5"
      },
      "source": [
        "%%timeit\r\n",
        "target_mean_v3(x1,y1)"
      ],
      "execution_count": 47,
      "outputs": [
        {
          "output_type": "stream",
          "text": [
            "10 loops, best of 3: 169 ms per loop\n"
          ],
          "name": "stdout"
        }
      ]
    },
    {
      "cell_type": "markdown",
      "metadata": {
        "id": "O0ABL-AKBQ2p"
      },
      "source": [
        "代码中的if...else...作用是判断x[i]是否在字典中，因此考虑通过数组下标达到类似于字典的key来去掉if...else...,并且提前传入x数组中数据的最大值+1作为要创建的数组大小。"
      ]
    },
    {
      "cell_type": "code",
      "metadata": {
        "id": "zPOVlJtdBJD1"
      },
      "source": [
        "def target_mean_v4(n, x, y):\r\n",
        "  values_dict = np.zeros(n, dtype=np.intc)\r\n",
        "  count_dict = np.zeros(n, dtype=np.intc)\r\n",
        "  nrow = x.shape[0]\r\n",
        "  result = np.empty(nrow,dtype=np.float64)\r\n",
        "  for i in range(nrow):\r\n",
        "    xi = x[i]\r\n",
        "    yi = y[i]\r\n",
        "    values_dict[xi] += yi\r\n",
        "    count_dict[xi] += 1\r\n",
        "  for i in range(nrow):\r\n",
        "    xi = x[i]\r\n",
        "    yi = y[i]\r\n",
        "    result[xi] = (values_dict[xi] - yi) / (count_dict[xi] - 1)\r\n",
        "  return result"
      ],
      "execution_count": 52,
      "outputs": []
    },
    {
      "cell_type": "markdown",
      "metadata": {
        "id": "Auajm9NQBPGJ"
      },
      "source": [
        "到这里v4还没经过测试，但推测v4和下一版v5可能没有v3效率高，因为字典是使用hash查找的，查找效率应该优于数组？另：v5优化的地方是：用到zip函数将nrow去掉。"
      ]
    },
    {
      "cell_type": "code",
      "metadata": {
        "id": "IoWWXe6TBaWG"
      },
      "source": [
        "def target_mean_v5(n, x, y):\r\n",
        "  values_dict = np.zeros(n, dtype=np.intc)\r\n",
        "  count_dict = np.zeros(n, dtype=np.intc)\r\n",
        "  for i, j in zip(x,y):\r\n",
        "    values_dict[i] += j\r\n",
        "    count_dict[i] += 1\r\n",
        "  result = [(values_dict[i] - j) / (count_dict[i] - 1) for i, j in zip(x,y)]\r\n",
        "  result = np.array(result)\r\n",
        "  return result"
      ],
      "execution_count": 53,
      "outputs": []
    },
    {
      "cell_type": "markdown",
      "metadata": {
        "id": "2lL9nNgwBc6e"
      },
      "source": [
        "速度确实比原来慢了，需要重新考虑values_dict和count_dict的数据结构。"
      ]
    },
    {
      "cell_type": "code",
      "metadata": {
        "colab": {
          "base_uri": "https://localhost:8080/"
        },
        "id": "lqoKOHRFBh9Y",
        "outputId": "e660f028-3552-42fe-ea7a-b58910f0991c"
      },
      "source": [
        "%%timeit \r\n",
        "target_mean_v4(10,x1,y1)"
      ],
      "execution_count": 67,
      "outputs": [
        {
          "output_type": "stream",
          "text": [
            "1 loop, best of 3: 976 ms per loop\n"
          ],
          "name": "stdout"
        }
      ]
    },
    {
      "cell_type": "markdown",
      "metadata": {
        "id": "1wgtPqKDB9LM"
      },
      "source": [
        "zip的优化基本没效果"
      ]
    },
    {
      "cell_type": "code",
      "metadata": {
        "colab": {
          "base_uri": "https://localhost:8080/"
        },
        "id": "nBpJfao1CAmg",
        "outputId": "4636e6dd-c407-4f37-c939-d0d7d18b29f8"
      },
      "source": [
        "%%timeit \r\n",
        "target_mean_v5(10,x1,y1)"
      ],
      "execution_count": 57,
      "outputs": [
        {
          "output_type": "stream",
          "text": [
            "1 loop, best of 3: 978 ms per loop\n"
          ],
          "name": "stdout"
        }
      ]
    },
    {
      "cell_type": "markdown",
      "metadata": {
        "id": "9NfBPomSChyr"
      },
      "source": [
        "通过查阅资料，找到python标准库collections中有defaultdict这种数据结构，可以去掉if...else...循环\r\n",
        "\r\n"
      ]
    },
    {
      "cell_type": "code",
      "metadata": {
        "id": "PoX-w567Cluw"
      },
      "source": [
        "from collections import defaultdict\r\n",
        "def target_mean_v6(x, y):\r\n",
        "  values_dict = defaultdict(lambda:0)\r\n",
        "  count_dict = defaultdict(lambda:0)\r\n",
        "  n = x.shape[0]\r\n",
        "  result = np.empty(n,dtype=np.float64)\r\n",
        "  for i in range(n):\r\n",
        "    xi = x[i]\r\n",
        "    yi = y[i]\r\n",
        "    values_dict[xi] += yi\r\n",
        "    count_dict[xi] += 1\r\n",
        "  for i in range(n):\r\n",
        "    xi = x[i]\r\n",
        "    yi = y[i]\r\n",
        "    result[i] = (values_dict[xi] - yi) / (count_dict[xi] - 1)\r\n",
        "  return result"
      ],
      "execution_count": 70,
      "outputs": []
    },
    {
      "cell_type": "markdown",
      "metadata": {
        "id": "hnu2eAlkCqsh"
      },
      "source": [
        "测试过几次，比v3版本要快，但c/c++中没有类似的数据结构，因此决定以v3版本作为修改模板来完成cython的实现。"
      ]
    },
    {
      "cell_type": "code",
      "metadata": {
        "colab": {
          "base_uri": "https://localhost:8080/"
        },
        "id": "vdm8LHW6Cvod",
        "outputId": "a7f91ded-bd52-4fdc-b297-6c551b5350a7"
      },
      "source": [
        "%%timeit\r\n",
        "target_mean_v6(x1,y1)"
      ],
      "execution_count": 72,
      "outputs": [
        {
          "output_type": "stream",
          "text": [
            "10 loops, best of 3: 154 ms per loop\n"
          ],
          "name": "stdout"
        }
      ]
    },
    {
      "cell_type": "code",
      "metadata": {
        "id": "nMQTbMWjC5Fo"
      },
      "source": [
        "%load_ext Cython"
      ],
      "execution_count": null,
      "outputs": []
    },
    {
      "cell_type": "markdown",
      "metadata": {
        "id": "Yd6j_TCGC_ri"
      },
      "source": [
        "字典功能用的是c++的（unordered_map或者map）？来实现。\r\n",
        "\r\n"
      ]
    },
    {
      "cell_type": "code",
      "metadata": {
        "id": "wq8wd--cDER2"
      },
      "source": [
        "%%cython --cplus\r\n",
        "import numpy as np\r\n",
        "cimport numpy as cnp\r\n",
        "cimport cython\r\n",
        "from libcpp.map cimport map\r\n",
        "\r\n",
        "@cython.boundscheck(False)\r\n",
        "@cython.wraparound(False)\r\n",
        "cpdef target_mean_v7(long[:] x, long[:] y):\r\n",
        "  cdef:\r\n",
        "    int n = x.shape[0]\r\n",
        "    int i\r\n",
        "    long xi,yi\r\n",
        "    double[:] result = np.zeros(n)\r\n",
        "    map[long,long] value_dict, count_dict\r\n",
        "  for i in range(n):\r\n",
        "    xi = x[i]\r\n",
        "    yi = y[i]\r\n",
        "    if value_dict.count(x[i]):\r\n",
        "      value_dict[xi] += yi\r\n",
        "      count_dict[xi] += 1\r\n",
        "    else:\r\n",
        "      value_dict[xi] = yi\r\n",
        "      count_dict[xi] = 1\r\n",
        "  for i in range(n):\r\n",
        "    xi = x[i]\r\n",
        "    yi = y[i]\r\n",
        "    result[i] = (value_dict[xi]-yi) / (count_dict[xi]-1)\r\n",
        "  return result"
      ],
      "execution_count": 73,
      "outputs": []
    },
    {
      "cell_type": "markdown",
      "metadata": {
        "id": "DUgD-Tv20HoS"
      },
      "source": [
        "这里测试map优于unordered_map"
      ]
    },
    {
      "cell_type": "code",
      "metadata": {
        "colab": {
          "base_uri": "https://localhost:8080/"
        },
        "id": "8QcRhxCBDHuP",
        "outputId": "a3d18a3e-aecd-4301-9771-5bf64c27834d"
      },
      "source": [
        "%%timeit\r\n",
        "target_mean_v7(x1,y1)"
      ],
      "execution_count": 74,
      "outputs": [
        {
          "output_type": "stream",
          "text": [
            "100 loops, best of 3: 7.28 ms per loop\n"
          ],
          "name": "stdout"
        }
      ]
    },
    {
      "cell_type": "markdown",
      "metadata": {
        "id": "74WxrhVEDFL8"
      },
      "source": [
        "尝试使用数组。"
      ]
    },
    {
      "cell_type": "code",
      "metadata": {
        "id": "EVg1lUKC2J9y"
      },
      "source": [
        "%%cython --cplus\r\n",
        "import numpy as np\r\n",
        "cimport numpy as cnp\r\n",
        "cimport cython\r\n",
        "\r\n",
        "@cython.boundscheck(False)\r\n",
        "@cython.wraparound(False)\r\n",
        "cpdef double[:] target_mean_v8(int n, long[:] x, long[:] y):\r\n",
        "  cdef:\r\n",
        "    int nrow = x.shape[0]\r\n",
        "    int i\r\n",
        "    long xi,yi\r\n",
        "    double[:] result = np.empty(nrow)\r\n",
        "    long[:] value_dict = np.zeros(n, dtype=np.int64), count_dict = np.zeros(n,dtype=np.int64)\r\n",
        "  for i in range(nrow):\r\n",
        "    xi = x[i]\r\n",
        "    yi = y[i]\r\n",
        "    value_dict[xi] += yi\r\n",
        "    count_dict[xi] += 1\r\n",
        "  for i in range(nrow):\r\n",
        "    xi = x[i]\r\n",
        "    yi = y[i]\r\n",
        "    result[i] = (value_dict[xi]-yi) / (count_dict[xi]-1)\r\n",
        "  return result"
      ],
      "execution_count": 75,
      "outputs": []
    },
    {
      "cell_type": "code",
      "metadata": {
        "colab": {
          "base_uri": "https://localhost:8080/"
        },
        "id": "ajwg0qRKD0y1",
        "outputId": "ba1ace19-bf3f-466c-a526-77b1f7a4b6ea"
      },
      "source": [
        "%%timeit\r\n",
        "target_mean_v8(10,x1,y1)"
      ],
      "execution_count": 76,
      "outputs": [
        {
          "output_type": "stream",
          "text": [
            "1000 loops, best of 3: 446 µs per loop\n"
          ],
          "name": "stdout"
        }
      ]
    },
    {
      "cell_type": "code",
      "metadata": {
        "id": "uHujffPkFRCv"
      },
      "source": [
        "%%cython --cplus\r\n",
        "import numpy as np\r\n",
        "cimport numpy as cnp\r\n",
        "cimport cython\r\n",
        "from cython.parallel import prange\r\n",
        "\r\n",
        "@cython.boundscheck(False)\r\n",
        "@cython.wraparound(False)\r\n",
        "cpdef double[:] target_mean_v9(const int n, long[:] x, long[:] y):\r\n",
        "  cdef:\r\n",
        "    int nrow = x.shape[0]\r\n",
        "    int i\r\n",
        "    double[:] result = np.asfortranarray(np.empty(nrow))\r\n",
        "    long xi,yi\r\n",
        "    long[:] value_dict = np.zeros(n,dtype=np.int64),count_dict = np.zeros(n,dtype=np.int64)\r\n",
        "  for i in prange(nrow,nogil=True,num_threads=8):\r\n",
        "    xi = x[i]\r\n",
        "    yi = y[i]\r\n",
        "    value_dict[xi] += yi\r\n",
        "    count_dict[xi] += 1\r\n",
        "  for i in prange(nrow,nogil=True,num_threads=8):\r\n",
        "    xi = x[i]\r\n",
        "    yi = y[i]\r\n",
        "    result[i] = (value_dict[xi]-yi) / (count_dict[xi]-1)\r\n",
        "  return result"
      ],
      "execution_count": 77,
      "outputs": []
    },
    {
      "cell_type": "markdown",
      "metadata": {
        "id": "1j7PdmH_F0_k"
      },
      "source": [
        "多线程实现的v9比原来的v8要慢"
      ]
    },
    {
      "cell_type": "code",
      "metadata": {
        "colab": {
          "base_uri": "https://localhost:8080/"
        },
        "id": "rGQuq3idFrOD",
        "outputId": "ac01b39c-ca1d-45b9-a213-aa362dfc7804"
      },
      "source": [
        "%%timeit\r\n",
        "target_mean_v9(10,x1,y1)"
      ],
      "execution_count": 78,
      "outputs": [
        {
          "output_type": "stream",
          "text": [
            "The slowest run took 4.63 times longer than the fastest. This could mean that an intermediate result is being cached.\n",
            "1000 loops, best of 3: 508 µs per loop\n"
          ],
          "name": "stdout"
        }
      ]
    }
  ]
}